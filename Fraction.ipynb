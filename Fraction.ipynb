{
 "cells": [
  {
   "cell_type": "markdown",
   "id": "68d5bbab",
   "metadata": {},
   "source": [
    "# 📇 Fraction"
   ]
  },
  {
   "cell_type": "code",
   "execution_count": 107,
   "id": "8c40e994",
   "metadata": {},
   "outputs": [],
   "source": [
    "#Let's import library\n",
    "import pandas as pd\n",
    "import numpy as np\n",
    "from sklearn.ensemble import RandomForestClassifier\n",
    "from sklearn.metrics import f1_score\n",
    "from sklearn.metrics import accuracy_score"
   ]
  },
  {
   "cell_type": "code",
   "execution_count": 108,
   "id": "d750ac67",
   "metadata": {},
   "outputs": [],
   "source": [
    "#Let's import dataset\n",
    "path = 'week9_predictive_maintenance.csv'\n",
    "df = pd.read_csv(path)"
   ]
  },
  {
   "cell_type": "code",
   "execution_count": 109,
   "id": "98fb3833",
   "metadata": {},
   "outputs": [
    {
     "data": {
      "text/html": [
       "<div>\n",
       "<style scoped>\n",
       "    .dataframe tbody tr th:only-of-type {\n",
       "        vertical-align: middle;\n",
       "    }\n",
       "\n",
       "    .dataframe tbody tr th {\n",
       "        vertical-align: top;\n",
       "    }\n",
       "\n",
       "    .dataframe thead th {\n",
       "        text-align: right;\n",
       "    }\n",
       "</style>\n",
       "<table border=\"1\" class=\"dataframe\">\n",
       "  <thead>\n",
       "    <tr style=\"text-align: right;\">\n",
       "      <th></th>\n",
       "      <th>UDI</th>\n",
       "      <th>Air temperature [K]</th>\n",
       "      <th>Process temperature [K]</th>\n",
       "      <th>Rotational speed [rpm]</th>\n",
       "      <th>Torque [Nm]</th>\n",
       "      <th>Tool wear [min]</th>\n",
       "      <th>Target</th>\n",
       "    </tr>\n",
       "  </thead>\n",
       "  <tbody>\n",
       "    <tr>\n",
       "      <th>0</th>\n",
       "      <td>1</td>\n",
       "      <td>298.1</td>\n",
       "      <td>308.6</td>\n",
       "      <td>1551</td>\n",
       "      <td>42.8</td>\n",
       "      <td>0</td>\n",
       "      <td>0</td>\n",
       "    </tr>\n",
       "    <tr>\n",
       "      <th>1</th>\n",
       "      <td>2</td>\n",
       "      <td>298.2</td>\n",
       "      <td>308.7</td>\n",
       "      <td>1408</td>\n",
       "      <td>46.3</td>\n",
       "      <td>3</td>\n",
       "      <td>0</td>\n",
       "    </tr>\n",
       "    <tr>\n",
       "      <th>2</th>\n",
       "      <td>3</td>\n",
       "      <td>298.1</td>\n",
       "      <td>308.5</td>\n",
       "      <td>1498</td>\n",
       "      <td>49.4</td>\n",
       "      <td>5</td>\n",
       "      <td>0</td>\n",
       "    </tr>\n",
       "    <tr>\n",
       "      <th>3</th>\n",
       "      <td>4</td>\n",
       "      <td>298.2</td>\n",
       "      <td>308.6</td>\n",
       "      <td>1433</td>\n",
       "      <td>39.5</td>\n",
       "      <td>7</td>\n",
       "      <td>0</td>\n",
       "    </tr>\n",
       "    <tr>\n",
       "      <th>4</th>\n",
       "      <td>5</td>\n",
       "      <td>298.2</td>\n",
       "      <td>308.7</td>\n",
       "      <td>1408</td>\n",
       "      <td>40.0</td>\n",
       "      <td>9</td>\n",
       "      <td>0</td>\n",
       "    </tr>\n",
       "    <tr>\n",
       "      <th>...</th>\n",
       "      <td>...</td>\n",
       "      <td>...</td>\n",
       "      <td>...</td>\n",
       "      <td>...</td>\n",
       "      <td>...</td>\n",
       "      <td>...</td>\n",
       "      <td>...</td>\n",
       "    </tr>\n",
       "    <tr>\n",
       "      <th>9995</th>\n",
       "      <td>9996</td>\n",
       "      <td>298.8</td>\n",
       "      <td>308.4</td>\n",
       "      <td>1604</td>\n",
       "      <td>29.5</td>\n",
       "      <td>14</td>\n",
       "      <td>0</td>\n",
       "    </tr>\n",
       "    <tr>\n",
       "      <th>9996</th>\n",
       "      <td>9997</td>\n",
       "      <td>298.9</td>\n",
       "      <td>308.4</td>\n",
       "      <td>1632</td>\n",
       "      <td>31.8</td>\n",
       "      <td>17</td>\n",
       "      <td>0</td>\n",
       "    </tr>\n",
       "    <tr>\n",
       "      <th>9997</th>\n",
       "      <td>9998</td>\n",
       "      <td>299.0</td>\n",
       "      <td>308.6</td>\n",
       "      <td>1645</td>\n",
       "      <td>33.4</td>\n",
       "      <td>22</td>\n",
       "      <td>0</td>\n",
       "    </tr>\n",
       "    <tr>\n",
       "      <th>9998</th>\n",
       "      <td>9999</td>\n",
       "      <td>299.0</td>\n",
       "      <td>308.7</td>\n",
       "      <td>1408</td>\n",
       "      <td>48.5</td>\n",
       "      <td>25</td>\n",
       "      <td>0</td>\n",
       "    </tr>\n",
       "    <tr>\n",
       "      <th>9999</th>\n",
       "      <td>10000</td>\n",
       "      <td>299.0</td>\n",
       "      <td>308.7</td>\n",
       "      <td>1500</td>\n",
       "      <td>40.2</td>\n",
       "      <td>30</td>\n",
       "      <td>0</td>\n",
       "    </tr>\n",
       "  </tbody>\n",
       "</table>\n",
       "<p>10000 rows × 7 columns</p>\n",
       "</div>"
      ],
      "text/plain": [
       "        UDI  Air temperature [K]  Process temperature [K]  \\\n",
       "0         1                298.1                    308.6   \n",
       "1         2                298.2                    308.7   \n",
       "2         3                298.1                    308.5   \n",
       "3         4                298.2                    308.6   \n",
       "4         5                298.2                    308.7   \n",
       "...     ...                  ...                      ...   \n",
       "9995   9996                298.8                    308.4   \n",
       "9996   9997                298.9                    308.4   \n",
       "9997   9998                299.0                    308.6   \n",
       "9998   9999                299.0                    308.7   \n",
       "9999  10000                299.0                    308.7   \n",
       "\n",
       "      Rotational speed [rpm]  Torque [Nm]  Tool wear [min]  Target  \n",
       "0                       1551         42.8                0       0  \n",
       "1                       1408         46.3                3       0  \n",
       "2                       1498         49.4                5       0  \n",
       "3                       1433         39.5                7       0  \n",
       "4                       1408         40.0                9       0  \n",
       "...                      ...          ...              ...     ...  \n",
       "9995                    1604         29.5               14       0  \n",
       "9996                    1632         31.8               17       0  \n",
       "9997                    1645         33.4               22       0  \n",
       "9998                    1408         48.5               25       0  \n",
       "9999                    1500         40.2               30       0  \n",
       "\n",
       "[10000 rows x 7 columns]"
      ]
     },
     "execution_count": 109,
     "metadata": {},
     "output_type": "execute_result"
    }
   ],
   "source": [
    "#Let's select only int and float types columns\n",
    "df = df.select_dtypes(['int','float'])\n",
    "df"
   ]
  },
  {
   "cell_type": "code",
   "execution_count": 110,
   "id": "5e6b8c13",
   "metadata": {},
   "outputs": [
    {
     "data": {
      "text/plain": [
       "0    9661\n",
       "1     339\n",
       "Name: Target, dtype: int64"
      ]
     },
     "execution_count": 110,
     "metadata": {},
     "output_type": "execute_result"
    }
   ],
   "source": [
    "#Let's look at number of values of target column\n",
    "df.Target.value_counts()"
   ]
  },
  {
   "cell_type": "code",
   "execution_count": 111,
   "id": "83fb263d",
   "metadata": {},
   "outputs": [
    {
     "name": "stdout",
     "output_type": "stream",
     "text": [
      "Ratio of 0:  0.9661\n",
      "Ratio of 1:  0.0339\n"
     ]
    }
   ],
   "source": [
    "#Let's look at ratio of values\n",
    "print(\"Ratio of 0: \" , len(df[df['Target'] == 0])/len(df))\n",
    "print(\"Ratio of 1: \" , len(df[df['Target'] == 1])/len(df))"
   ]
  },
  {
   "cell_type": "code",
   "execution_count": 112,
   "id": "e1ba231a",
   "metadata": {},
   "outputs": [],
   "source": [
    "#Let's create random forest model\n",
    "rfc = RandomForestClassifier(max_depth = 5 , random_state = 42)"
   ]
  },
  {
   "cell_type": "code",
   "execution_count": 113,
   "id": "871e4053",
   "metadata": {},
   "outputs": [],
   "source": [
    "#Let's divide data to train and test\n",
    "count = len(df)*0.8\n",
    "train = df.loc[:count]\n",
    "test = df.loc[count:]"
   ]
  },
  {
   "cell_type": "code",
   "execution_count": 116,
   "id": "800bdc38",
   "metadata": {},
   "outputs": [],
   "source": [
    "#Let's balance the train dataset \n",
    "frac = 0.2\n",
    "train_0 = train[train['Target'] == 0].sample(frac = frac)\n",
    "train_1 = train[train['Target'] == 1]\n",
    "train = pd.concat([train_0,train_1])"
   ]
  },
  {
   "cell_type": "code",
   "execution_count": 117,
   "id": "6dfe0e13",
   "metadata": {},
   "outputs": [],
   "source": [
    "#Let's select target and explanatory variables \n",
    "y_train = train['Target']\n",
    "x_train = train.drop(columns = 'Target')"
   ]
  },
  {
   "cell_type": "code",
   "execution_count": 118,
   "id": "85e94ab5",
   "metadata": {},
   "outputs": [
    {
     "data": {
      "text/html": [
       "<style>#sk-container-id-1 {color: black;background-color: white;}#sk-container-id-1 pre{padding: 0;}#sk-container-id-1 div.sk-toggleable {background-color: white;}#sk-container-id-1 label.sk-toggleable__label {cursor: pointer;display: block;width: 100%;margin-bottom: 0;padding: 0.3em;box-sizing: border-box;text-align: center;}#sk-container-id-1 label.sk-toggleable__label-arrow:before {content: \"▸\";float: left;margin-right: 0.25em;color: #696969;}#sk-container-id-1 label.sk-toggleable__label-arrow:hover:before {color: black;}#sk-container-id-1 div.sk-estimator:hover label.sk-toggleable__label-arrow:before {color: black;}#sk-container-id-1 div.sk-toggleable__content {max-height: 0;max-width: 0;overflow: hidden;text-align: left;background-color: #f0f8ff;}#sk-container-id-1 div.sk-toggleable__content pre {margin: 0.2em;color: black;border-radius: 0.25em;background-color: #f0f8ff;}#sk-container-id-1 input.sk-toggleable__control:checked~div.sk-toggleable__content {max-height: 200px;max-width: 100%;overflow: auto;}#sk-container-id-1 input.sk-toggleable__control:checked~label.sk-toggleable__label-arrow:before {content: \"▾\";}#sk-container-id-1 div.sk-estimator input.sk-toggleable__control:checked~label.sk-toggleable__label {background-color: #d4ebff;}#sk-container-id-1 div.sk-label input.sk-toggleable__control:checked~label.sk-toggleable__label {background-color: #d4ebff;}#sk-container-id-1 input.sk-hidden--visually {border: 0;clip: rect(1px 1px 1px 1px);clip: rect(1px, 1px, 1px, 1px);height: 1px;margin: -1px;overflow: hidden;padding: 0;position: absolute;width: 1px;}#sk-container-id-1 div.sk-estimator {font-family: monospace;background-color: #f0f8ff;border: 1px dotted black;border-radius: 0.25em;box-sizing: border-box;margin-bottom: 0.5em;}#sk-container-id-1 div.sk-estimator:hover {background-color: #d4ebff;}#sk-container-id-1 div.sk-parallel-item::after {content: \"\";width: 100%;border-bottom: 1px solid gray;flex-grow: 1;}#sk-container-id-1 div.sk-label:hover label.sk-toggleable__label {background-color: #d4ebff;}#sk-container-id-1 div.sk-serial::before {content: \"\";position: absolute;border-left: 1px solid gray;box-sizing: border-box;top: 0;bottom: 0;left: 50%;z-index: 0;}#sk-container-id-1 div.sk-serial {display: flex;flex-direction: column;align-items: center;background-color: white;padding-right: 0.2em;padding-left: 0.2em;position: relative;}#sk-container-id-1 div.sk-item {position: relative;z-index: 1;}#sk-container-id-1 div.sk-parallel {display: flex;align-items: stretch;justify-content: center;background-color: white;position: relative;}#sk-container-id-1 div.sk-item::before, #sk-container-id-1 div.sk-parallel-item::before {content: \"\";position: absolute;border-left: 1px solid gray;box-sizing: border-box;top: 0;bottom: 0;left: 50%;z-index: -1;}#sk-container-id-1 div.sk-parallel-item {display: flex;flex-direction: column;z-index: 1;position: relative;background-color: white;}#sk-container-id-1 div.sk-parallel-item:first-child::after {align-self: flex-end;width: 50%;}#sk-container-id-1 div.sk-parallel-item:last-child::after {align-self: flex-start;width: 50%;}#sk-container-id-1 div.sk-parallel-item:only-child::after {width: 0;}#sk-container-id-1 div.sk-dashed-wrapped {border: 1px dashed gray;margin: 0 0.4em 0.5em 0.4em;box-sizing: border-box;padding-bottom: 0.4em;background-color: white;}#sk-container-id-1 div.sk-label label {font-family: monospace;font-weight: bold;display: inline-block;line-height: 1.2em;}#sk-container-id-1 div.sk-label-container {text-align: center;}#sk-container-id-1 div.sk-container {/* jupyter's `normalize.less` sets `[hidden] { display: none; }` but bootstrap.min.css set `[hidden] { display: none !important; }` so we also need the `!important` here to be able to override the default hidden behavior on the sphinx rendered scikit-learn.org. See: https://github.com/scikit-learn/scikit-learn/issues/21755 */display: inline-block !important;position: relative;}#sk-container-id-1 div.sk-text-repr-fallback {display: none;}</style><div id=\"sk-container-id-1\" class=\"sk-top-container\"><div class=\"sk-text-repr-fallback\"><pre>RandomForestClassifier(max_depth=5, random_state=42)</pre><b>In a Jupyter environment, please rerun this cell to show the HTML representation or trust the notebook. <br />On GitHub, the HTML representation is unable to render, please try loading this page with nbviewer.org.</b></div><div class=\"sk-container\" hidden><div class=\"sk-item\"><div class=\"sk-estimator sk-toggleable\"><input class=\"sk-toggleable__control sk-hidden--visually\" id=\"sk-estimator-id-1\" type=\"checkbox\" checked><label for=\"sk-estimator-id-1\" class=\"sk-toggleable__label sk-toggleable__label-arrow\">RandomForestClassifier</label><div class=\"sk-toggleable__content\"><pre>RandomForestClassifier(max_depth=5, random_state=42)</pre></div></div></div></div></div>"
      ],
      "text/plain": [
       "RandomForestClassifier(max_depth=5, random_state=42)"
      ]
     },
     "execution_count": 118,
     "metadata": {},
     "output_type": "execute_result"
    }
   ],
   "source": [
    "#Let's fit its\n",
    "rfc.fit(x_train,y_train)"
   ]
  },
  {
   "cell_type": "code",
   "execution_count": 119,
   "id": "24c80976",
   "metadata": {},
   "outputs": [],
   "source": [
    "#Let's predict new values \n",
    "y_test = test['Target']\n",
    "x_test = test.drop(columns = 'Target')\n",
    "y_pred = rfc.predict(x_test)"
   ]
  },
  {
   "cell_type": "code",
   "execution_count": 120,
   "id": "c81c04fb",
   "metadata": {},
   "outputs": [
    {
     "name": "stdout",
     "output_type": "stream",
     "text": [
      "Fraction: 0.2  |  F-Score(Test): 0.5428571428571428  |  Accuracy Score(Test): 0.984\n"
     ]
    }
   ],
   "source": [
    "#Let's look at f score accuracy score \n",
    "print(f\"Fraction: {frac}  |  F-Score(Test): {f1_score(y_test,y_pred)}  |  Accuracy Score(Test): {accuracy_score(y_test,y_pred)}\")"
   ]
  },
  {
   "cell_type": "markdown",
   "id": "284e1a81",
   "metadata": {},
   "source": [
    "# 🗞️ Fraction (For loop)"
   ]
  },
  {
   "cell_type": "code",
   "execution_count": 132,
   "id": "5b0d99e5",
   "metadata": {},
   "outputs": [],
   "source": [
    "#Let's import dataset\n",
    "#Let's select only int and float types columns\n",
    "path = 'week9_predictive_maintenance.csv'\n",
    "df = pd.read_csv(path)"
   ]
  },
  {
   "cell_type": "code",
   "execution_count": 133,
   "id": "fb0baa6a",
   "metadata": {},
   "outputs": [
    {
     "data": {
      "text/plain": [
       "UDI                          int64\n",
       "Product ID                  object\n",
       "Type                        object\n",
       "Air temperature [K]        float64\n",
       "Process temperature [K]    float64\n",
       "Rotational speed [rpm]       int64\n",
       "Torque [Nm]                float64\n",
       "Tool wear [min]              int64\n",
       "Target                       int64\n",
       "Failure Type                object\n",
       "dtype: object"
      ]
     },
     "execution_count": 133,
     "metadata": {},
     "output_type": "execute_result"
    }
   ],
   "source": [
    "df.dtypes"
   ]
  },
  {
   "cell_type": "code",
   "execution_count": 134,
   "id": "8aa39a8c",
   "metadata": {},
   "outputs": [],
   "source": [
    "df = df.select_dtypes(['int','float'])"
   ]
  },
  {
   "cell_type": "code",
   "execution_count": 135,
   "id": "d826e943",
   "metadata": {},
   "outputs": [],
   "source": [
    "#Let's divide data to train and test\n",
    "train = df.loc[:count]\n",
    "test = df.loc[count:]"
   ]
  },
  {
   "cell_type": "code",
   "execution_count": 136,
   "id": "c330eb53",
   "metadata": {},
   "outputs": [
    {
     "data": {
      "text/html": [
       "<div>\n",
       "<style scoped>\n",
       "    .dataframe tbody tr th:only-of-type {\n",
       "        vertical-align: middle;\n",
       "    }\n",
       "\n",
       "    .dataframe tbody tr th {\n",
       "        vertical-align: top;\n",
       "    }\n",
       "\n",
       "    .dataframe thead th {\n",
       "        text-align: right;\n",
       "    }\n",
       "</style>\n",
       "<table border=\"1\" class=\"dataframe\">\n",
       "  <thead>\n",
       "    <tr style=\"text-align: right;\">\n",
       "      <th></th>\n",
       "      <th>UDI</th>\n",
       "      <th>Air temperature [K]</th>\n",
       "      <th>Process temperature [K]</th>\n",
       "      <th>Rotational speed [rpm]</th>\n",
       "      <th>Torque [Nm]</th>\n",
       "      <th>Tool wear [min]</th>\n",
       "      <th>Target</th>\n",
       "    </tr>\n",
       "  </thead>\n",
       "  <tbody>\n",
       "    <tr>\n",
       "      <th>0</th>\n",
       "      <td>1</td>\n",
       "      <td>298.1</td>\n",
       "      <td>308.6</td>\n",
       "      <td>1551</td>\n",
       "      <td>42.8</td>\n",
       "      <td>0</td>\n",
       "      <td>0</td>\n",
       "    </tr>\n",
       "    <tr>\n",
       "      <th>1</th>\n",
       "      <td>2</td>\n",
       "      <td>298.2</td>\n",
       "      <td>308.7</td>\n",
       "      <td>1408</td>\n",
       "      <td>46.3</td>\n",
       "      <td>3</td>\n",
       "      <td>0</td>\n",
       "    </tr>\n",
       "    <tr>\n",
       "      <th>2</th>\n",
       "      <td>3</td>\n",
       "      <td>298.1</td>\n",
       "      <td>308.5</td>\n",
       "      <td>1498</td>\n",
       "      <td>49.4</td>\n",
       "      <td>5</td>\n",
       "      <td>0</td>\n",
       "    </tr>\n",
       "    <tr>\n",
       "      <th>3</th>\n",
       "      <td>4</td>\n",
       "      <td>298.2</td>\n",
       "      <td>308.6</td>\n",
       "      <td>1433</td>\n",
       "      <td>39.5</td>\n",
       "      <td>7</td>\n",
       "      <td>0</td>\n",
       "    </tr>\n",
       "    <tr>\n",
       "      <th>4</th>\n",
       "      <td>5</td>\n",
       "      <td>298.2</td>\n",
       "      <td>308.7</td>\n",
       "      <td>1408</td>\n",
       "      <td>40.0</td>\n",
       "      <td>9</td>\n",
       "      <td>0</td>\n",
       "    </tr>\n",
       "    <tr>\n",
       "      <th>...</th>\n",
       "      <td>...</td>\n",
       "      <td>...</td>\n",
       "      <td>...</td>\n",
       "      <td>...</td>\n",
       "      <td>...</td>\n",
       "      <td>...</td>\n",
       "      <td>...</td>\n",
       "    </tr>\n",
       "    <tr>\n",
       "      <th>9995</th>\n",
       "      <td>9996</td>\n",
       "      <td>298.8</td>\n",
       "      <td>308.4</td>\n",
       "      <td>1604</td>\n",
       "      <td>29.5</td>\n",
       "      <td>14</td>\n",
       "      <td>0</td>\n",
       "    </tr>\n",
       "    <tr>\n",
       "      <th>9996</th>\n",
       "      <td>9997</td>\n",
       "      <td>298.9</td>\n",
       "      <td>308.4</td>\n",
       "      <td>1632</td>\n",
       "      <td>31.8</td>\n",
       "      <td>17</td>\n",
       "      <td>0</td>\n",
       "    </tr>\n",
       "    <tr>\n",
       "      <th>9997</th>\n",
       "      <td>9998</td>\n",
       "      <td>299.0</td>\n",
       "      <td>308.6</td>\n",
       "      <td>1645</td>\n",
       "      <td>33.4</td>\n",
       "      <td>22</td>\n",
       "      <td>0</td>\n",
       "    </tr>\n",
       "    <tr>\n",
       "      <th>9998</th>\n",
       "      <td>9999</td>\n",
       "      <td>299.0</td>\n",
       "      <td>308.7</td>\n",
       "      <td>1408</td>\n",
       "      <td>48.5</td>\n",
       "      <td>25</td>\n",
       "      <td>0</td>\n",
       "    </tr>\n",
       "    <tr>\n",
       "      <th>9999</th>\n",
       "      <td>10000</td>\n",
       "      <td>299.0</td>\n",
       "      <td>308.7</td>\n",
       "      <td>1500</td>\n",
       "      <td>40.2</td>\n",
       "      <td>30</td>\n",
       "      <td>0</td>\n",
       "    </tr>\n",
       "  </tbody>\n",
       "</table>\n",
       "<p>10000 rows × 7 columns</p>\n",
       "</div>"
      ],
      "text/plain": [
       "        UDI  Air temperature [K]  Process temperature [K]  \\\n",
       "0         1                298.1                    308.6   \n",
       "1         2                298.2                    308.7   \n",
       "2         3                298.1                    308.5   \n",
       "3         4                298.2                    308.6   \n",
       "4         5                298.2                    308.7   \n",
       "...     ...                  ...                      ...   \n",
       "9995   9996                298.8                    308.4   \n",
       "9996   9997                298.9                    308.4   \n",
       "9997   9998                299.0                    308.6   \n",
       "9998   9999                299.0                    308.7   \n",
       "9999  10000                299.0                    308.7   \n",
       "\n",
       "      Rotational speed [rpm]  Torque [Nm]  Tool wear [min]  Target  \n",
       "0                       1551         42.8                0       0  \n",
       "1                       1408         46.3                3       0  \n",
       "2                       1498         49.4                5       0  \n",
       "3                       1433         39.5                7       0  \n",
       "4                       1408         40.0                9       0  \n",
       "...                      ...          ...              ...     ...  \n",
       "9995                    1604         29.5               14       0  \n",
       "9996                    1632         31.8               17       0  \n",
       "9997                    1645         33.4               22       0  \n",
       "9998                    1408         48.5               25       0  \n",
       "9999                    1500         40.2               30       0  \n",
       "\n",
       "[10000 rows x 7 columns]"
      ]
     },
     "execution_count": 136,
     "metadata": {},
     "output_type": "execute_result"
    }
   ],
   "source": [
    "df"
   ]
  },
  {
   "cell_type": "code",
   "execution_count": 137,
   "id": "53ffbc3a",
   "metadata": {},
   "outputs": [
    {
     "name": "stdout",
     "output_type": "stream",
     "text": [
      "Fraction: 0.1 | F Score: 0.5225225225225226\n",
      "Fraction: 0.2 | F Score: 0.5217391304347827\n",
      "Fraction: 0.3 | F Score: 0.5970149253731343\n",
      "Fraction: 0.4 | F Score: 0.5084745762711865\n",
      "Fraction: 0.5 | F Score: 0.5\n",
      "Fraction: 0.6 | F Score: 0.48148148148148145\n",
      "Fraction: 0.7 | F Score: 0.45283018867924535\n",
      "Fraction: 0.8 | F Score: 0.45283018867924535\n",
      "Fraction: 0.9 | F Score: 0.45283018867924535\n"
     ]
    }
   ],
   "source": [
    "#Let's look at different f score in various fraction\n",
    "for frac in np.arange(1,10)/10:\n",
    "    train_0 = train[train['Target'] == 0].sample(frac = frac)\n",
    "    train_1 = train[train['Target'] == 1]\n",
    "    train_01 = pd.concat([train_0,train_1])\n",
    "    y_train = train_01['Target']\n",
    "    x_train = train_01.drop(columns =  ['Target'])\n",
    "    y_test = test['Target']\n",
    "    x_test = test.drop(columns = ['Target'])\n",
    "    rfc.fit(x_train,y_train)\n",
    "    y_pred_test = rfc.predict(x_test)\n",
    "    print(f\"Fraction: {frac} | F Score: {f1_score(y_test,y_pred_test)}\")"
   ]
  },
  {
   "cell_type": "markdown",
   "id": "1c4fcd40",
   "metadata": {},
   "source": [
    "# 📥 Dynamic 📤"
   ]
  },
  {
   "cell_type": "code",
   "execution_count": 366,
   "id": "cdd2edec",
   "metadata": {
    "scrolled": false
   },
   "outputs": [],
   "source": [
    "#Let's import dataset\n",
    "#Let's select only int and float types columns\n",
    "path = 'week9_predictive_maintenance.csv'\n",
    "df = pd.read_csv(path)\n",
    "df = df.select_dtypes(['int','float'])"
   ]
  },
  {
   "cell_type": "code",
   "execution_count": 367,
   "id": "441dd26f",
   "metadata": {},
   "outputs": [],
   "source": [
    "#Let's divide data to train and test\n",
    "train = df.loc[:count]\n",
    "test = df.loc[count:]"
   ]
  },
  {
   "cell_type": "code",
   "execution_count": 368,
   "id": "ec977ce3",
   "metadata": {},
   "outputs": [],
   "source": [
    "#Let's write as dynamic\n",
    "#We select max_depth and test&train size then we enter train and test to this function\n",
    "#This function finds the best f-score and the fractional number corresponding to the maximum f-score\n",
    "rfc = RandomForestClassifier(max_depth = 5,random_state = 42)\n",
    "def find_frac(train,test):\n",
    "    best_fscore = 0\n",
    "    best_frac = 0\n",
    "    for i in np.arange(1,10)/10:\n",
    "        if len(train[train['Target'] == 0]) > len(train[train['Target'] == 1]):\n",
    "            train_0 = train[train['Target'] == 0].sample(frac = i)\n",
    "            train_1 = train[train['Target'] == 1]\n",
    "            train_01 = pd.concat([train_0,train_1])\n",
    "            train_01 = train_01.sample(frac = 1.0)\n",
    "            y_train = train_01['Target']\n",
    "            x_train = train_01.drop(columns =  ['Target'])\n",
    "            y_test = test['Target']\n",
    "            x_test = test.drop(columns = ['Target'])\n",
    "            rfc.fit(x_train,y_train)\n",
    "            y_pred_test = rfc.predict(x_test)\n",
    "            f_score = f1_score(y_test,y_pred_test)\n",
    "            if f_score > best_fscore:\n",
    "                best_fscore = f_score\n",
    "                best_frac = i\n",
    "        else:\n",
    "            train_1 = train[train['Target'] == 1].sample(frac = i)\n",
    "            train_0 = train[train['Target'] == 0]\n",
    "            train_01 = pd.concat([train_0,train_1])\n",
    "            train_01 = train_01.sample(frac = 1.0)\n",
    "            y_train = train_01['Target']\n",
    "            x_train = train_01.drop(columns =  ['Target'])\n",
    "            y_test = test['Target']\n",
    "            x_test = test.drop(columns = ['Target'])\n",
    "            rfc.fit(x_train,y_train)\n",
    "            y_pred_test = rfc.predict(x_test)\n",
    "            f_score = f1_score(y_test,y_pred_test)\n",
    "            if f_score > best_fscore:\n",
    "                best_fscore = f_score\n",
    "                best_frac = i\n",
    "    return f\"The best fraction: {best_frac} |  The Best F-Score: {best_fscore}\""
   ]
  },
  {
   "cell_type": "code",
   "execution_count": 369,
   "id": "f4ee7138",
   "metadata": {},
   "outputs": [
    {
     "name": "stdout",
     "output_type": "stream",
     "text": [
      "The best fraction: 0.2 |  The Best F-Score: 0.5714285714285715\n"
     ]
    }
   ],
   "source": [
    "print(find_frac(train,test))"
   ]
  },
  {
   "cell_type": "markdown",
   "id": "4040fb0c",
   "metadata": {},
   "source": [
    "# 📝 Multi Class"
   ]
  },
  {
   "cell_type": "code",
   "execution_count": 138,
   "id": "022d8c49",
   "metadata": {},
   "outputs": [
    {
     "data": {
      "text/html": [
       "<div>\n",
       "<style scoped>\n",
       "    .dataframe tbody tr th:only-of-type {\n",
       "        vertical-align: middle;\n",
       "    }\n",
       "\n",
       "    .dataframe tbody tr th {\n",
       "        vertical-align: top;\n",
       "    }\n",
       "\n",
       "    .dataframe thead th {\n",
       "        text-align: right;\n",
       "    }\n",
       "</style>\n",
       "<table border=\"1\" class=\"dataframe\">\n",
       "  <thead>\n",
       "    <tr style=\"text-align: right;\">\n",
       "      <th></th>\n",
       "      <th>Popularity</th>\n",
       "      <th>danceability</th>\n",
       "      <th>energy</th>\n",
       "      <th>key</th>\n",
       "      <th>loudness</th>\n",
       "      <th>mode</th>\n",
       "      <th>speechiness</th>\n",
       "      <th>acousticness</th>\n",
       "      <th>instrumentalness</th>\n",
       "      <th>liveness</th>\n",
       "      <th>valence</th>\n",
       "      <th>tempo</th>\n",
       "      <th>duration_in min/ms</th>\n",
       "      <th>time_signature</th>\n",
       "      <th>Class</th>\n",
       "    </tr>\n",
       "  </thead>\n",
       "  <tbody>\n",
       "    <tr>\n",
       "      <th>0</th>\n",
       "      <td>60.0</td>\n",
       "      <td>0.854</td>\n",
       "      <td>0.564</td>\n",
       "      <td>1.0</td>\n",
       "      <td>-4.964</td>\n",
       "      <td>1</td>\n",
       "      <td>0.0485</td>\n",
       "      <td>0.017100</td>\n",
       "      <td>0.000000</td>\n",
       "      <td>0.0849</td>\n",
       "      <td>0.8990</td>\n",
       "      <td>134.071</td>\n",
       "      <td>234596.0</td>\n",
       "      <td>4</td>\n",
       "      <td>HipHop</td>\n",
       "    </tr>\n",
       "    <tr>\n",
       "      <th>1</th>\n",
       "      <td>54.0</td>\n",
       "      <td>0.382</td>\n",
       "      <td>0.814</td>\n",
       "      <td>3.0</td>\n",
       "      <td>-7.230</td>\n",
       "      <td>1</td>\n",
       "      <td>0.0406</td>\n",
       "      <td>0.001100</td>\n",
       "      <td>0.004010</td>\n",
       "      <td>0.1010</td>\n",
       "      <td>0.5690</td>\n",
       "      <td>116.454</td>\n",
       "      <td>251733.0</td>\n",
       "      <td>4</td>\n",
       "      <td>Country</td>\n",
       "    </tr>\n",
       "    <tr>\n",
       "      <th>2</th>\n",
       "      <td>35.0</td>\n",
       "      <td>0.434</td>\n",
       "      <td>0.614</td>\n",
       "      <td>6.0</td>\n",
       "      <td>-8.334</td>\n",
       "      <td>1</td>\n",
       "      <td>0.0525</td>\n",
       "      <td>0.486000</td>\n",
       "      <td>0.000196</td>\n",
       "      <td>0.3940</td>\n",
       "      <td>0.7870</td>\n",
       "      <td>147.681</td>\n",
       "      <td>109667.0</td>\n",
       "      <td>4</td>\n",
       "      <td>Alt</td>\n",
       "    </tr>\n",
       "    <tr>\n",
       "      <th>3</th>\n",
       "      <td>66.0</td>\n",
       "      <td>0.853</td>\n",
       "      <td>0.597</td>\n",
       "      <td>10.0</td>\n",
       "      <td>-6.528</td>\n",
       "      <td>0</td>\n",
       "      <td>0.0555</td>\n",
       "      <td>0.021200</td>\n",
       "      <td>0.000000</td>\n",
       "      <td>0.1220</td>\n",
       "      <td>0.5690</td>\n",
       "      <td>107.033</td>\n",
       "      <td>173968.0</td>\n",
       "      <td>4</td>\n",
       "      <td>HipHop</td>\n",
       "    </tr>\n",
       "    <tr>\n",
       "      <th>4</th>\n",
       "      <td>53.0</td>\n",
       "      <td>0.167</td>\n",
       "      <td>0.975</td>\n",
       "      <td>2.0</td>\n",
       "      <td>-4.279</td>\n",
       "      <td>1</td>\n",
       "      <td>0.2160</td>\n",
       "      <td>0.000169</td>\n",
       "      <td>0.016100</td>\n",
       "      <td>0.1720</td>\n",
       "      <td>0.0918</td>\n",
       "      <td>199.060</td>\n",
       "      <td>229960.0</td>\n",
       "      <td>4</td>\n",
       "      <td>Country</td>\n",
       "    </tr>\n",
       "    <tr>\n",
       "      <th>...</th>\n",
       "      <td>...</td>\n",
       "      <td>...</td>\n",
       "      <td>...</td>\n",
       "      <td>...</td>\n",
       "      <td>...</td>\n",
       "      <td>...</td>\n",
       "      <td>...</td>\n",
       "      <td>...</td>\n",
       "      <td>...</td>\n",
       "      <td>...</td>\n",
       "      <td>...</td>\n",
       "      <td>...</td>\n",
       "      <td>...</td>\n",
       "      <td>...</td>\n",
       "      <td>...</td>\n",
       "    </tr>\n",
       "    <tr>\n",
       "      <th>17991</th>\n",
       "      <td>35.0</td>\n",
       "      <td>0.166</td>\n",
       "      <td>0.109</td>\n",
       "      <td>7.0</td>\n",
       "      <td>-17.100</td>\n",
       "      <td>0</td>\n",
       "      <td>0.0413</td>\n",
       "      <td>0.993000</td>\n",
       "      <td>0.824000</td>\n",
       "      <td>0.0984</td>\n",
       "      <td>0.1770</td>\n",
       "      <td>171.587</td>\n",
       "      <td>193450.0</td>\n",
       "      <td>3</td>\n",
       "      <td>Alt</td>\n",
       "    </tr>\n",
       "    <tr>\n",
       "      <th>17992</th>\n",
       "      <td>27.0</td>\n",
       "      <td>0.638</td>\n",
       "      <td>0.223</td>\n",
       "      <td>11.0</td>\n",
       "      <td>-10.174</td>\n",
       "      <td>0</td>\n",
       "      <td>0.0329</td>\n",
       "      <td>0.858000</td>\n",
       "      <td>0.000016</td>\n",
       "      <td>0.0705</td>\n",
       "      <td>0.3350</td>\n",
       "      <td>73.016</td>\n",
       "      <td>257067.0</td>\n",
       "      <td>4</td>\n",
       "      <td>Alt</td>\n",
       "    </tr>\n",
       "    <tr>\n",
       "      <th>17993</th>\n",
       "      <td>34.0</td>\n",
       "      <td>0.558</td>\n",
       "      <td>0.981</td>\n",
       "      <td>4.0</td>\n",
       "      <td>-4.683</td>\n",
       "      <td>0</td>\n",
       "      <td>0.0712</td>\n",
       "      <td>0.000030</td>\n",
       "      <td>0.000136</td>\n",
       "      <td>0.6660</td>\n",
       "      <td>0.2620</td>\n",
       "      <td>105.000</td>\n",
       "      <td>216222.0</td>\n",
       "      <td>4</td>\n",
       "      <td>Acoustic_Folk</td>\n",
       "    </tr>\n",
       "    <tr>\n",
       "      <th>17994</th>\n",
       "      <td>29.0</td>\n",
       "      <td>0.215</td>\n",
       "      <td>0.805</td>\n",
       "      <td>6.0</td>\n",
       "      <td>-12.757</td>\n",
       "      <td>0</td>\n",
       "      <td>0.1340</td>\n",
       "      <td>0.001290</td>\n",
       "      <td>0.916000</td>\n",
       "      <td>0.2560</td>\n",
       "      <td>0.3550</td>\n",
       "      <td>131.363</td>\n",
       "      <td>219693.0</td>\n",
       "      <td>4</td>\n",
       "      <td>Acoustic_Folk</td>\n",
       "    </tr>\n",
       "    <tr>\n",
       "      <th>17995</th>\n",
       "      <td>43.0</td>\n",
       "      <td>0.400</td>\n",
       "      <td>0.853</td>\n",
       "      <td>4.0</td>\n",
       "      <td>-5.320</td>\n",
       "      <td>0</td>\n",
       "      <td>0.0591</td>\n",
       "      <td>0.006040</td>\n",
       "      <td>0.212000</td>\n",
       "      <td>0.3340</td>\n",
       "      <td>0.3770</td>\n",
       "      <td>138.102</td>\n",
       "      <td>182227.0</td>\n",
       "      <td>4</td>\n",
       "      <td>Country</td>\n",
       "    </tr>\n",
       "  </tbody>\n",
       "</table>\n",
       "<p>17996 rows × 15 columns</p>\n",
       "</div>"
      ],
      "text/plain": [
       "       Popularity  danceability  energy   key  loudness  mode  speechiness  \\\n",
       "0            60.0         0.854   0.564   1.0    -4.964     1       0.0485   \n",
       "1            54.0         0.382   0.814   3.0    -7.230     1       0.0406   \n",
       "2            35.0         0.434   0.614   6.0    -8.334     1       0.0525   \n",
       "3            66.0         0.853   0.597  10.0    -6.528     0       0.0555   \n",
       "4            53.0         0.167   0.975   2.0    -4.279     1       0.2160   \n",
       "...           ...           ...     ...   ...       ...   ...          ...   \n",
       "17991        35.0         0.166   0.109   7.0   -17.100     0       0.0413   \n",
       "17992        27.0         0.638   0.223  11.0   -10.174     0       0.0329   \n",
       "17993        34.0         0.558   0.981   4.0    -4.683     0       0.0712   \n",
       "17994        29.0         0.215   0.805   6.0   -12.757     0       0.1340   \n",
       "17995        43.0         0.400   0.853   4.0    -5.320     0       0.0591   \n",
       "\n",
       "       acousticness  instrumentalness  liveness  valence    tempo  \\\n",
       "0          0.017100          0.000000    0.0849   0.8990  134.071   \n",
       "1          0.001100          0.004010    0.1010   0.5690  116.454   \n",
       "2          0.486000          0.000196    0.3940   0.7870  147.681   \n",
       "3          0.021200          0.000000    0.1220   0.5690  107.033   \n",
       "4          0.000169          0.016100    0.1720   0.0918  199.060   \n",
       "...             ...               ...       ...      ...      ...   \n",
       "17991      0.993000          0.824000    0.0984   0.1770  171.587   \n",
       "17992      0.858000          0.000016    0.0705   0.3350   73.016   \n",
       "17993      0.000030          0.000136    0.6660   0.2620  105.000   \n",
       "17994      0.001290          0.916000    0.2560   0.3550  131.363   \n",
       "17995      0.006040          0.212000    0.3340   0.3770  138.102   \n",
       "\n",
       "       duration_in min/ms  time_signature          Class  \n",
       "0                234596.0               4         HipHop  \n",
       "1                251733.0               4        Country  \n",
       "2                109667.0               4            Alt  \n",
       "3                173968.0               4         HipHop  \n",
       "4                229960.0               4        Country  \n",
       "...                   ...             ...            ...  \n",
       "17991            193450.0               3            Alt  \n",
       "17992            257067.0               4            Alt  \n",
       "17993            216222.0               4  Acoustic_Folk  \n",
       "17994            219693.0               4  Acoustic_Folk  \n",
       "17995            182227.0               4        Country  \n",
       "\n",
       "[17996 rows x 15 columns]"
      ]
     },
     "execution_count": 138,
     "metadata": {},
     "output_type": "execute_result"
    }
   ],
   "source": [
    "from sklearn.metrics import f1_score\n",
    "from sklearn.ensemble import RandomForestClassifier\n",
    "import pandas as pd\n",
    "\n",
    "train = pd.read_csv(\"week9_music_train.csv\")\n",
    "train = train.fillna(0)\n",
    "\n",
    "del train['Artist Name']\n",
    "del train['Track Name']\n",
    "\n",
    "classnames = {\n",
    "    0:'Rock',\n",
    "    1:'Indie',\n",
    "    2:'Alt',\n",
    "    3:'Pop',\n",
    "    4:'Metal',\n",
    "    5:'HipHop',\n",
    "    6:'Alt',\n",
    "    7:'Blues',\n",
    "    8:'Acoustic_Folk',\n",
    "    9:'Instrumental',\n",
    "    10:'Country',\n",
    "    11:'Indie'\n",
    "}\n",
    "\n",
    "train['Class'] = train['Class'].map(classnames)\n",
    "\n",
    "train"
   ]
  },
  {
   "cell_type": "code",
   "execution_count": 6,
   "id": "6d729ee0",
   "metadata": {
    "scrolled": true
   },
   "outputs": [
    {
     "data": {
      "text/plain": [
       "Country          4949\n",
       "Alt              3859\n",
       "Instrumental     2524\n",
       "Acoustic_Folk    1854\n",
       "HipHop           1447\n",
       "Indie            1373\n",
       "Rock              625\n",
       "Blues             576\n",
       "Pop               402\n",
       "Metal             387\n",
       "Name: Class, dtype: int64"
      ]
     },
     "execution_count": 6,
     "metadata": {},
     "output_type": "execute_result"
    }
   ],
   "source": [
    "train['Class'].value_counts()"
   ]
  },
  {
   "cell_type": "code",
   "execution_count": 7,
   "id": "6517a060",
   "metadata": {},
   "outputs": [],
   "source": [
    "#Let's write as dynamic\n",
    "#We select max_depth and test&train size then we enter train and test to this function\n",
    "#This function finds the best f-score and the fractional number corresponding to the maximum f-score\n",
    "def find_frac_multiple_choice(train): \n",
    "    best_fscore = 0\n",
    "    best_frac = 0\n",
    "    for cls in list(train['Class'].unique()):\n",
    "        for frac in np.arange(1,11)/10:\n",
    "            copied = train.copy()\n",
    "            copied[ 'Class' ] = copied[ 'Class' ].apply(lambda value: 1 if value == cls else 0)\n",
    "\n",
    "            limit = int(len(copied) * 0.70)\n",
    "            tr = copied[:limit]\n",
    "            te = copied[limit:]\n",
    "\n",
    "            tr0 = tr[ tr['Class'] == 0 ].sample(frac = frac)\n",
    "            tr1 = tr[ tr['Class'] == 1 ]\n",
    "\n",
    "            tr = pd.concat([tr0, tr1])\n",
    "            tr = tr.sample(frac = 1.0)\n",
    "\n",
    "            clf = RandomForestClassifier(max_depth=5, random_state=0)\n",
    "\n",
    "            y_train = tr['Class']\n",
    "            x_train = tr.drop(columns = 'Class')\n",
    "\n",
    "            clf.fit(x_train,y_train)\n",
    "\n",
    "            y_test = te['Class']\n",
    "            x_test = te.drop(columns = 'Class')\n",
    "            fscore = f1_score(y_test, clf.predict(x_test)) \n",
    "            if fscore > best_fscore:\n",
    "                best_fscore = fscore\n",
    "                best_frac = frac\n",
    "        print(f\"The name of class: {cls} |  The best fraction: {best_frac} |  The Best F-Score: {best_fscore}\")"
   ]
  },
  {
   "cell_type": "code",
   "execution_count": 385,
   "id": "e394618d",
   "metadata": {
    "scrolled": false
   },
   "outputs": [
    {
     "name": "stdout",
     "output_type": "stream",
     "text": [
      "The name of class: HipHop |  The best fraction: 0.3 |  The Best F-Score: 0.7099143206854345\n",
      "The name of class: Country |  The best fraction: 0.3 |  The Best F-Score: 0.7099143206854345\n",
      "The name of class: Alt |  The best fraction: 0.3 |  The Best F-Score: 0.7099143206854345\n",
      "The name of class: Metal |  The best fraction: 0.3 |  The Best F-Score: 0.7099143206854345\n",
      "The name of class: Acoustic_Folk |  The best fraction: 0.3 |  The Best F-Score: 0.7099143206854345\n",
      "The name of class: Instrumental |  The best fraction: 0.3 |  The Best F-Score: 0.7099143206854345\n",
      "The name of class: Pop |  The best fraction: 0.2 |  The Best F-Score: 0.7341772151898734\n",
      "The name of class: Blues |  The best fraction: 0.4 |  The Best F-Score: 0.9226666666666666\n",
      "The name of class: Indie |  The best fraction: 0.4 |  The Best F-Score: 0.9226666666666666\n",
      "The name of class: Rock |  The best fraction: 0.4 |  The Best F-Score: 0.9226666666666666\n"
     ]
    }
   ],
   "source": [
    "find_frac_multiple_choice(train)"
   ]
  },
  {
   "cell_type": "markdown",
   "id": "fa081baf",
   "metadata": {},
   "source": [
    "# 💡 Artist Column"
   ]
  },
  {
   "cell_type": "code",
   "execution_count": 242,
   "id": "77d5e8b1",
   "metadata": {},
   "outputs": [],
   "source": [
    "from sklearn.metrics import f1_score\n",
    "from sklearn.ensemble import RandomForestClassifier\n",
    "import pandas as pd\n",
    "import seaborn as sns\n",
    "\n",
    "train = pd.read_csv(\"week9_music_train.csv\")"
   ]
  },
  {
   "cell_type": "code",
   "execution_count": 243,
   "id": "67c79108",
   "metadata": {},
   "outputs": [
    {
     "data": {
      "text/plain": [
       "5"
      ]
     },
     "execution_count": 243,
     "metadata": {},
     "output_type": "execute_result"
    }
   ],
   "source": [
    "sum(train['Artist Name'].value_counts() > 40)"
   ]
  },
  {
   "cell_type": "code",
   "execution_count": 244,
   "id": "34b5b017",
   "metadata": {},
   "outputs": [
    {
     "data": {
      "text/plain": [
       "9149"
      ]
     },
     "execution_count": 244,
     "metadata": {},
     "output_type": "execute_result"
    }
   ],
   "source": [
    "train['Artist Name'].nunique()"
   ]
  },
  {
   "cell_type": "code",
   "execution_count": 245,
   "id": "20cae762",
   "metadata": {},
   "outputs": [],
   "source": [
    "counts = train['Artist Name'].value_counts() > 40\n",
    "top5 = []\n",
    "for i in range(len(counts)):\n",
    "    if counts[i] == True: \n",
    "        top5.append(counts.index[i])"
   ]
  },
  {
   "cell_type": "code",
   "execution_count": 246,
   "id": "2b20ae66",
   "metadata": {},
   "outputs": [],
   "source": [
    "train.loc[~train['Artist Name'].isin(top5), 'Artist Name'] = 'Others'"
   ]
  },
  {
   "cell_type": "code",
   "execution_count": 247,
   "id": "86a626f7",
   "metadata": {},
   "outputs": [
    {
     "data": {
      "text/plain": [
       "Others             17717\n",
       "Backstreet Boys       69\n",
       "Westlife              60\n",
       "Britney Spears        54\n",
       "Eyal Golan            48\n",
       "Omer Adam             48\n",
       "Name: Artist Name, dtype: int64"
      ]
     },
     "execution_count": 247,
     "metadata": {},
     "output_type": "execute_result"
    }
   ],
   "source": [
    "train['Artist Name'].value_counts()"
   ]
  },
  {
   "cell_type": "code",
   "execution_count": 248,
   "id": "99293558",
   "metadata": {},
   "outputs": [],
   "source": [
    "train = pd.get_dummies(train , columns = ['Artist Name'])"
   ]
  },
  {
   "cell_type": "code",
   "execution_count": 249,
   "id": "7865a593",
   "metadata": {},
   "outputs": [
    {
     "name": "stderr",
     "output_type": "stream",
     "text": [
      "C:\\Users\\HP\\AppData\\Local\\Temp\\ipykernel_15320\\707980231.py:1: FutureWarning: The default value of numeric_only in DataFrame.corr is deprecated. In a future version, it will default to False. Select only valid columns or specify the value of numeric_only to silence this warning.\n",
      "  train.corr()['Class']\n"
     ]
    },
    {
     "data": {
      "text/plain": [
       "Popularity                     0.161072\n",
       "danceability                  -0.097681\n",
       "energy                         0.217328\n",
       "key                           -0.007829\n",
       "loudness                       0.177872\n",
       "mode                          -0.044740\n",
       "speechiness                   -0.059349\n",
       "acousticness                  -0.237138\n",
       "instrumentalness              -0.025343\n",
       "liveness                       0.045309\n",
       "valence                       -0.075116\n",
       "tempo                          0.031737\n",
       "duration_in min/ms             0.203678\n",
       "time_signature                 0.047989\n",
       "Class                          1.000000\n",
       "Artist Name_Backstreet Boys    0.044589\n",
       "Artist Name_Britney Spears     0.039429\n",
       "Artist Name_Eyal Golan         0.037168\n",
       "Artist Name_Omer Adam          0.037168\n",
       "Artist Name_Others            -0.090191\n",
       "Artist Name_Westlife           0.041569\n",
       "Name: Class, dtype: float64"
      ]
     },
     "execution_count": 249,
     "metadata": {},
     "output_type": "execute_result"
    }
   ],
   "source": [
    "train.corr()['Class']"
   ]
  },
  {
   "cell_type": "code",
   "execution_count": 250,
   "id": "290d20e2",
   "metadata": {},
   "outputs": [],
   "source": [
    "del train['Track Name']"
   ]
  },
  {
   "cell_type": "code",
   "execution_count": 251,
   "id": "695a0d1a",
   "metadata": {},
   "outputs": [],
   "source": [
    "columns = train.columns"
   ]
  },
  {
   "cell_type": "code",
   "execution_count": 252,
   "id": "46c43a85",
   "metadata": {},
   "outputs": [
    {
     "data": {
      "text/plain": [
       "Index(['Popularity', 'danceability', 'energy', 'key', 'loudness', 'mode',\n",
       "       'speechiness', 'acousticness', 'instrumentalness', 'liveness',\n",
       "       'valence', 'tempo', 'duration_in min/ms', 'time_signature', 'Class',\n",
       "       'Artist Name_Backstreet Boys', 'Artist Name_Britney Spears',\n",
       "       'Artist Name_Eyal Golan', 'Artist Name_Omer Adam', 'Artist Name_Others',\n",
       "       'Artist Name_Westlife'],\n",
       "      dtype='object')"
      ]
     },
     "execution_count": 252,
     "metadata": {},
     "output_type": "execute_result"
    }
   ],
   "source": [
    "columns"
   ]
  },
  {
   "cell_type": "code",
   "execution_count": 253,
   "id": "ab748179",
   "metadata": {},
   "outputs": [],
   "source": [
    "corr_col = {}\n",
    "for column1 in columns:\n",
    "    for column2 in columns:\n",
    "         if column1 != column2 and column1 != 'Class' and column2 != 'Class':\n",
    "            col = f\"{column1} + {column2}\"\n",
    "            train[col] = train[column1] + train[column2]\n",
    "            corr = train['Class'].corr(train[col])\n",
    "            if corr < 0.25 and corr > -0.25:\n",
    "                del train[col]\n",
    "            else: \n",
    "                corr_col[col] = corr"
   ]
  },
  {
   "cell_type": "code",
   "execution_count": 254,
   "id": "830a478d",
   "metadata": {},
   "outputs": [
    {
     "data": {
      "text/plain": [
       "{'danceability + acousticness': -0.2542124833269818,\n",
       " 'acousticness + danceability': -0.2542124833269818,\n",
       " 'acousticness + Artist Name_Others': -0.25457811678385417,\n",
       " 'Artist Name_Others + acousticness': -0.25457811678385417}"
      ]
     },
     "execution_count": 254,
     "metadata": {},
     "output_type": "execute_result"
    }
   ],
   "source": [
    "corr_col"
   ]
  },
  {
   "cell_type": "code",
   "execution_count": 255,
   "id": "b9040c7a",
   "metadata": {},
   "outputs": [
    {
     "data": {
      "text/plain": [
       "<Axes: >"
      ]
     },
     "execution_count": 255,
     "metadata": {},
     "output_type": "execute_result"
    },
    {
     "data": {
      "image/png": "[encoded data removed]",
      "text/plain": [
       "<Figure size 640x480 with 2 Axes>"
      ]
     },
     "metadata": {},
     "output_type": "display_data"
    }
   ],
   "source": [
    "sns.heatmap(train.corr())"
   ]
  },
  {
   "cell_type": "code",
   "execution_count": 256,
   "id": "4a808676",
   "metadata": {},
   "outputs": [],
   "source": [
    "train.fillna(0 , inplace = True )"
   ]
  },
  {
   "cell_type": "code",
   "execution_count": 257,
   "id": "dcbcc5bd",
   "metadata": {},
   "outputs": [],
   "source": [
    "classnames = {\n",
    "    0:'Rock',\n",
    "    1:'Indie',\n",
    "    2:'Alt',\n",
    "    3:'Pop',\n",
    "    4:'Metal',\n",
    "    5:'HipHop',\n",
    "    6:'Alt',\n",
    "    7:'Blues',\n",
    "    8:'Acoustic_Folk',\n",
    "    9:'Instrumental',\n",
    "    10:'Country',\n",
    "    11:'Indie'\n",
    "}\n",
    "\n",
    "train['Class'] = train['Class'].map(classnames)"
   ]
  },
  {
   "cell_type": "code",
   "execution_count": 263,
   "id": "8c981d36",
   "metadata": {},
   "outputs": [],
   "source": [
    "#Let's write as dynamic\n",
    "#We select max_depth and test&train size then we enter train and test to this function\n",
    "#This function finds the best f-score and the fractional number corresponding to the maximum f-score\n",
    "def find_frac_multiple_choice(train): \n",
    "    best_fscore = 0\n",
    "    best_frac = 0\n",
    "    for cls in list(train['Class'].unique()):\n",
    "        for frac in np.arange(1,11)/10:\n",
    "            copied = train.copy()\n",
    "            copied[ 'Class' ] = copied[ 'Class' ].apply(lambda value: 1 if value == cls else 0)\n",
    "\n",
    "            limit = int(len(copied) * 0.70)\n",
    "            tr = copied[:limit]\n",
    "            te = copied[limit:]\n",
    "\n",
    "            tr0 = tr[ tr['Class'] == 0 ].sample(frac = frac)\n",
    "            tr1 = tr[ tr['Class'] == 1 ]\n",
    "\n",
    "            tr = pd.concat([tr0, tr1])\n",
    "            tr = tr.sample(frac = 1.0)\n",
    "\n",
    "            clf = RandomForestClassifier(max_depth=5, random_state=0)\n",
    "\n",
    "            y_train = tr['Class']\n",
    "            x_train = tr.drop(columns = 'Class')\n",
    "\n",
    "            clf.fit(x_train,y_train)\n",
    "\n",
    "            y_test = te['Class']\n",
    "            x_test = te.drop(columns = 'Class')\n",
    "            fscore = f1_score(y_test, clf.predict(x_test)) \n",
    "            if fscore > best_fscore:\n",
    "                best_fscore = fscore\n",
    "                best_frac = frac\n",
    "        print(f\"The name of class: {cls} |  The best fraction: {best_frac} |  The Best F-Score: {best_fscore}\")"
   ]
  },
  {
   "cell_type": "code",
   "execution_count": 264,
   "id": "84f9ae15",
   "metadata": {},
   "outputs": [
    {
     "name": "stdout",
     "output_type": "stream",
     "text": [
      "The name of class: HipHop |  The best fraction: 0.3 |  The Best F-Score: 0.6811070998796631\n",
      "The name of class: Country |  The best fraction: 0.3 |  The Best F-Score: 0.6811070998796631\n",
      "The name of class: Alt |  The best fraction: 0.3 |  The Best F-Score: 0.6811070998796631\n",
      "The name of class: Metal |  The best fraction: 0.3 |  The Best F-Score: 0.6811070998796631\n",
      "The name of class: Acoustic_Folk |  The best fraction: 0.3 |  The Best F-Score: 0.6811070998796631\n",
      "The name of class: Instrumental |  The best fraction: 0.3 |  The Best F-Score: 0.6811070998796631\n",
      "The name of class: Pop |  The best fraction: 0.3 |  The Best F-Score: 0.7155963302752294\n",
      "The name of class: Blues |  The best fraction: 0.3 |  The Best F-Score: 0.8936170212765957\n",
      "The name of class: Indie |  The best fraction: 0.3 |  The Best F-Score: 0.8936170212765957\n",
      "The name of class: Rock |  The best fraction: 0.3 |  The Best F-Score: 0.8936170212765957\n"
     ]
    }
   ],
   "source": [
    "find_frac_multiple_choice(train)"
   ]
  },
  {
   "cell_type": "markdown",
   "id": "02af97b9",
   "metadata": {},
   "source": [
    "# ✔ The End"
   ]
  }
 ],
 "metadata": {
  "kernelspec": {
   "display_name": "Python 3 (ipykernel)",
   "language": "python",
   "name": "python3"
  },
  "language_info": {
   "codemirror_mode": {
    "name": "ipython",
    "version": 3
   },
   "file_extension": ".py",
   "mimetype": "text/x-python",
   "name": "python",
   "nbconvert_exporter": "python",
   "pygments_lexer": "ipython3",
   "version": "3.10.9"
  }
 },
 "nbformat": 4,
 "nbformat_minor": 5
}
